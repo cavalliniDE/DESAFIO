{
  "nbformat": 4,
  "nbformat_minor": 0,
  "metadata": {
    "colab": {
      "name": "desafio_funcionalcorp.ipynb",
      "provenance": [],
      "collapsed_sections": []
    },
    "kernelspec": {
      "name": "python3",
      "display_name": "Python 3"
    }
  },
  "cells": [
    {
      "cell_type": "code",
      "metadata": {
        "id": "udaW3HMm7ri_",
        "colab_type": "code",
        "colab": {}
      },
      "source": [
        "## Gostaria de deixar alguns adendos , sobre a tratativa do desafio técnico:\n",
        "## Toda estrutura foi criada na Nuvem pela ferramenta Google Colab , a extensão de arquivos é .IPYNB\n",
        "## Onde alguns imports são da própria ferramenta. Não iram executar diretamente no Python.\n",
        "## O google solicita o authorization code , para montar a partição do Google Drive , para acesso aos arquivos\n",
        "## Exemplo de chave criado pelo google para acesso e validação ao Google Drive: 4/1gEyw_8bqORDulwdq6fgG4F2d-zaqnehD137OdQEQOyuDHS3oN9HTPg\n",
        "## O usuario deverá logar no Google / Google drive\n",
        "## O comando spark-subit não irá se aplicar neste caso, para execução do código.\n",
        "## Qualquer dúvida , fico a disposição.\n",
        "## Att. Bruno Milhati Cavallini"
      ],
      "execution_count": 1,
      "outputs": []
    },
    {
      "cell_type": "code",
      "metadata": {
        "id": "ZUDvpe-ggpwF",
        "colab_type": "code",
        "colab": {}
      },
      "source": [
        "\n",
        "# instalação \n",
        "!apt-get install openjdk-8-jdk-headless -qq > /dev/null\n",
        "!wget -q https://archive.apache.org/dist/spark/spark-2.4.4/spark-2.4.4-bin-hadoop2.7.tgz\n",
        "!tar xf spark-2.4.4-bin-hadoop2.7.tgz\n",
        "!pip install -q findspark"
      ],
      "execution_count": 3,
      "outputs": []
    },
    {
      "cell_type": "code",
      "metadata": {
        "colab_type": "code",
        "cellView": "code",
        "id": "194iEKL8XaXy",
        "colab": {
          "base_uri": "https://localhost:8080/",
          "height": 51
        },
        "outputId": "4b2f7a92-da87-4467-a004-903abe03381e"
      },
      "source": [
        "#Instalação Java-8 , instalação Spark , pacotes findsaprk , collections\n",
        "!apt-get install openjdk-8-jdk-headless -qq > /dev/null\n",
        "!tar xf spark-2.4.4-bin-hadoop2.7.tgz\n",
        "!pip install -q findspark\n",
        "!pip install collections-extended"
      ],
      "execution_count": 4,
      "outputs": [
        {
          "output_type": "stream",
          "text": [
            "Requirement already satisfied: collections-extended in /usr/local/lib/python3.6/dist-packages (1.0.3)\n",
            "Requirement already satisfied: setuptools in /usr/local/lib/python3.6/dist-packages (from collections-extended) (47.3.1)\n"
          ],
          "name": "stdout"
        }
      ]
    },
    {
      "cell_type": "code",
      "metadata": {
        "id": "vctO5cJZUmwm",
        "colab_type": "code",
        "colab": {}
      },
      "source": [
        "## Setando variaveis de ambiente \n",
        "import os\n",
        "os.environ[\"JAVA_HOME\"] = \"/usr/lib/jvm/java-8-openjdk-amd64\"\n",
        "os.environ[\"SPARK_HOME\"] = \"/content/spark-2.4.4-bin-hadoop2.7\""
      ],
      "execution_count": 5,
      "outputs": []
    },
    {
      "cell_type": "code",
      "metadata": {
        "id": "76WJVozRX_OY",
        "colab_type": "code",
        "colab": {}
      },
      "source": [
        "# imports\n",
        "import findspark\n",
        "findspark.init()\n",
        "import pandas as pd\n",
        "import datetime as dt\n",
        "import collections\n",
        "from pyspark.sql import SparkSession\n",
        "from pyspark import SparkContext\n",
        "from pyspark import SparkConf\n",
        "from pyspark.sql.functions import regexp_extract\n",
        "from pyspark.sql.functions import col\n",
        "from pyspark.sql.functions import sum as spark_sum\n",
        "from pyspark.sql.functions import unix_timestamp, from_unixtime\n",
        "from pyspark.sql import Row\n",
        "from six.moves import urllib\n",
        "\n",
        "# SparkContext\n",
        "spark = SparkSession.builder.master(\"local[*]\").getOrCreate()\n",
        "sc = SparkContext.getOrCreate()\n",
        "\n",
        "\n"
      ],
      "execution_count": 6,
      "outputs": []
    },
    {
      "cell_type": "code",
      "metadata": {
        "id": "IR5wrkLTaR9j",
        "colab_type": "code",
        "colab": {
          "base_uri": "https://localhost:8080/",
          "height": 34
        },
        "outputId": "3a9ad12f-f663-41f0-ffd3-fa7b561da06a"
      },
      "source": [
        "# Leitura de arquivos do Google Drive\n",
        "# Ao executar o codigo o google solicita o authorization code , para montar a partição do Google Drive \n",
        "# Exemplo: 4/tQFvkBi4HJjeLRJMCwMOAkXIGBeMeqmpA15ir6t2i-trbmeMLYZ-lxc \n",
        "\n",
        "from google.colab import drive \n",
        "from google.colab import files\n",
        "drive.mount('/content/gdrive')\n",
        "\n",
        "# carregando CSV\n",
        "file_local = 'gdrive/My Drive/2018_Yellow_Taxi_Trip_Data.csv'"
      ],
      "execution_count": 7,
      "outputs": [
        {
          "output_type": "stream",
          "text": [
            "Drive already mounted at /content/gdrive; to attempt to forcibly remount, call drive.mount(\"/content/gdrive\", force_remount=True).\n"
          ],
          "name": "stdout"
        }
      ]
    },
    {
      "cell_type": "code",
      "metadata": {
        "id": "iriuvjyZKzrH",
        "colab_type": "code",
        "colab": {}
      },
      "source": [
        "# Carregando CSV em Fomato Pandas\n",
        "data = pd.read_csv('gdrive/My Drive/2018_Yellow_Taxi_Trip_Data.csv')"
      ],
      "execution_count": 8,
      "outputs": []
    },
    {
      "cell_type": "code",
      "metadata": {
        "id": "KYNwWWr0L8MC",
        "colab_type": "code",
        "colab": {
          "base_uri": "https://localhost:8080/",
          "height": 224
        },
        "outputId": "1fcaf80e-74df-48ea-cba5-9fb8519685a2"
      },
      "source": [
        "# Visualização das primeira linhas \n",
        "data.head()"
      ],
      "execution_count": 9,
      "outputs": [
        {
          "output_type": "execute_result",
          "data": {
            "text/html": [
              "<div>\n",
              "<style scoped>\n",
              "    .dataframe tbody tr th:only-of-type {\n",
              "        vertical-align: middle;\n",
              "    }\n",
              "\n",
              "    .dataframe tbody tr th {\n",
              "        vertical-align: top;\n",
              "    }\n",
              "\n",
              "    .dataframe thead th {\n",
              "        text-align: right;\n",
              "    }\n",
              "</style>\n",
              "<table border=\"1\" class=\"dataframe\">\n",
              "  <thead>\n",
              "    <tr style=\"text-align: right;\">\n",
              "      <th></th>\n",
              "      <th>VendorID</th>\n",
              "      <th>tpep_pickup_datetime</th>\n",
              "      <th>tpep_dropoff_datetime</th>\n",
              "      <th>passenger_count</th>\n",
              "      <th>trip_distance</th>\n",
              "      <th>RatecodeID</th>\n",
              "      <th>store_and_fwd_flag</th>\n",
              "      <th>PULocationID</th>\n",
              "      <th>DOLocationID</th>\n",
              "      <th>payment_type</th>\n",
              "      <th>fare_amount</th>\n",
              "      <th>extra</th>\n",
              "      <th>mta_tax</th>\n",
              "      <th>tip_amount</th>\n",
              "      <th>tolls_amount</th>\n",
              "      <th>improvement_surcharge</th>\n",
              "      <th>total_amount</th>\n",
              "    </tr>\n",
              "  </thead>\n",
              "  <tbody>\n",
              "    <tr>\n",
              "      <th>0</th>\n",
              "      <td>2</td>\n",
              "      <td>06/13/2018 10:21:21 AM</td>\n",
              "      <td>06/13/2018 10:39:36 AM</td>\n",
              "      <td>1</td>\n",
              "      <td>2.20</td>\n",
              "      <td>1</td>\n",
              "      <td>N</td>\n",
              "      <td>237</td>\n",
              "      <td>230</td>\n",
              "      <td>1</td>\n",
              "      <td>13.0</td>\n",
              "      <td>0.0</td>\n",
              "      <td>0.5</td>\n",
              "      <td>1.50</td>\n",
              "      <td>0.0</td>\n",
              "      <td>0.3</td>\n",
              "      <td>15.30</td>\n",
              "    </tr>\n",
              "    <tr>\n",
              "      <th>1</th>\n",
              "      <td>2</td>\n",
              "      <td>06/13/2018 10:42:40 AM</td>\n",
              "      <td>06/13/2018 10:47:18 AM</td>\n",
              "      <td>1</td>\n",
              "      <td>0.49</td>\n",
              "      <td>1</td>\n",
              "      <td>N</td>\n",
              "      <td>100</td>\n",
              "      <td>230</td>\n",
              "      <td>2</td>\n",
              "      <td>5.0</td>\n",
              "      <td>0.0</td>\n",
              "      <td>0.5</td>\n",
              "      <td>0.00</td>\n",
              "      <td>0.0</td>\n",
              "      <td>0.3</td>\n",
              "      <td>5.80</td>\n",
              "    </tr>\n",
              "    <tr>\n",
              "      <th>2</th>\n",
              "      <td>2</td>\n",
              "      <td>06/13/2018 10:54:04 AM</td>\n",
              "      <td>06/13/2018 11:04:37 AM</td>\n",
              "      <td>1</td>\n",
              "      <td>1.48</td>\n",
              "      <td>1</td>\n",
              "      <td>N</td>\n",
              "      <td>48</td>\n",
              "      <td>162</td>\n",
              "      <td>1</td>\n",
              "      <td>8.5</td>\n",
              "      <td>0.0</td>\n",
              "      <td>0.5</td>\n",
              "      <td>1.50</td>\n",
              "      <td>0.0</td>\n",
              "      <td>0.3</td>\n",
              "      <td>10.80</td>\n",
              "    </tr>\n",
              "    <tr>\n",
              "      <th>3</th>\n",
              "      <td>2</td>\n",
              "      <td>06/13/2018 10:02:47 AM</td>\n",
              "      <td>06/13/2018 10:27:58 AM</td>\n",
              "      <td>1</td>\n",
              "      <td>2.29</td>\n",
              "      <td>1</td>\n",
              "      <td>N</td>\n",
              "      <td>164</td>\n",
              "      <td>237</td>\n",
              "      <td>1</td>\n",
              "      <td>15.5</td>\n",
              "      <td>0.0</td>\n",
              "      <td>0.5</td>\n",
              "      <td>4.08</td>\n",
              "      <td>0.0</td>\n",
              "      <td>0.3</td>\n",
              "      <td>20.38</td>\n",
              "    </tr>\n",
              "    <tr>\n",
              "      <th>4</th>\n",
              "      <td>2</td>\n",
              "      <td>06/13/2018 10:29:11 AM</td>\n",
              "      <td>06/13/2018 10:45:29 AM</td>\n",
              "      <td>1</td>\n",
              "      <td>0.94</td>\n",
              "      <td>1</td>\n",
              "      <td>N</td>\n",
              "      <td>43</td>\n",
              "      <td>161</td>\n",
              "      <td>2</td>\n",
              "      <td>11.0</td>\n",
              "      <td>0.0</td>\n",
              "      <td>0.5</td>\n",
              "      <td>0.00</td>\n",
              "      <td>0.0</td>\n",
              "      <td>0.3</td>\n",
              "      <td>11.80</td>\n",
              "    </tr>\n",
              "  </tbody>\n",
              "</table>\n",
              "</div>"
            ],
            "text/plain": [
              "   VendorID    tpep_pickup_datetime  ... improvement_surcharge  total_amount\n",
              "0         2  06/13/2018 10:21:21 AM  ...                   0.3         15.30\n",
              "1         2  06/13/2018 10:42:40 AM  ...                   0.3          5.80\n",
              "2         2  06/13/2018 10:54:04 AM  ...                   0.3         10.80\n",
              "3         2  06/13/2018 10:02:47 AM  ...                   0.3         20.38\n",
              "4         2  06/13/2018 10:29:11 AM  ...                   0.3         11.80\n",
              "\n",
              "[5 rows x 17 columns]"
            ]
          },
          "metadata": {
            "tags": []
          },
          "execution_count": 9
        }
      ]
    },
    {
      "cell_type": "code",
      "metadata": {
        "id": "u8-FF_NULwbw",
        "colab_type": "code",
        "colab": {}
      },
      "source": [
        "# Conversão de String para Datetime\n",
        "data['tpep_pickup_datetime'] = pd.to_datetime(data['tpep_pickup_datetime'])\n",
        "data['tpep_dropoff_datetime'] = pd.to_datetime(data['tpep_dropoff_datetime'])"
      ],
      "execution_count": 10,
      "outputs": []
    },
    {
      "cell_type": "code",
      "metadata": {
        "id": "BCKlAdd_NhFI",
        "colab_type": "code",
        "colab": {
          "base_uri": "https://localhost:8080/",
          "height": 224
        },
        "outputId": "415f0a74-9205-4e60-c760-1e8bb9bb4354"
      },
      "source": [
        "# Visualização das primeira linhas \n",
        "data.head()"
      ],
      "execution_count": 11,
      "outputs": [
        {
          "output_type": "execute_result",
          "data": {
            "text/html": [
              "<div>\n",
              "<style scoped>\n",
              "    .dataframe tbody tr th:only-of-type {\n",
              "        vertical-align: middle;\n",
              "    }\n",
              "\n",
              "    .dataframe tbody tr th {\n",
              "        vertical-align: top;\n",
              "    }\n",
              "\n",
              "    .dataframe thead th {\n",
              "        text-align: right;\n",
              "    }\n",
              "</style>\n",
              "<table border=\"1\" class=\"dataframe\">\n",
              "  <thead>\n",
              "    <tr style=\"text-align: right;\">\n",
              "      <th></th>\n",
              "      <th>VendorID</th>\n",
              "      <th>tpep_pickup_datetime</th>\n",
              "      <th>tpep_dropoff_datetime</th>\n",
              "      <th>passenger_count</th>\n",
              "      <th>trip_distance</th>\n",
              "      <th>RatecodeID</th>\n",
              "      <th>store_and_fwd_flag</th>\n",
              "      <th>PULocationID</th>\n",
              "      <th>DOLocationID</th>\n",
              "      <th>payment_type</th>\n",
              "      <th>fare_amount</th>\n",
              "      <th>extra</th>\n",
              "      <th>mta_tax</th>\n",
              "      <th>tip_amount</th>\n",
              "      <th>tolls_amount</th>\n",
              "      <th>improvement_surcharge</th>\n",
              "      <th>total_amount</th>\n",
              "    </tr>\n",
              "  </thead>\n",
              "  <tbody>\n",
              "    <tr>\n",
              "      <th>0</th>\n",
              "      <td>2</td>\n",
              "      <td>2018-06-13 10:21:21</td>\n",
              "      <td>2018-06-13 10:39:36</td>\n",
              "      <td>1</td>\n",
              "      <td>2.20</td>\n",
              "      <td>1</td>\n",
              "      <td>N</td>\n",
              "      <td>237</td>\n",
              "      <td>230</td>\n",
              "      <td>1</td>\n",
              "      <td>13.0</td>\n",
              "      <td>0.0</td>\n",
              "      <td>0.5</td>\n",
              "      <td>1.50</td>\n",
              "      <td>0.0</td>\n",
              "      <td>0.3</td>\n",
              "      <td>15.30</td>\n",
              "    </tr>\n",
              "    <tr>\n",
              "      <th>1</th>\n",
              "      <td>2</td>\n",
              "      <td>2018-06-13 10:42:40</td>\n",
              "      <td>2018-06-13 10:47:18</td>\n",
              "      <td>1</td>\n",
              "      <td>0.49</td>\n",
              "      <td>1</td>\n",
              "      <td>N</td>\n",
              "      <td>100</td>\n",
              "      <td>230</td>\n",
              "      <td>2</td>\n",
              "      <td>5.0</td>\n",
              "      <td>0.0</td>\n",
              "      <td>0.5</td>\n",
              "      <td>0.00</td>\n",
              "      <td>0.0</td>\n",
              "      <td>0.3</td>\n",
              "      <td>5.80</td>\n",
              "    </tr>\n",
              "    <tr>\n",
              "      <th>2</th>\n",
              "      <td>2</td>\n",
              "      <td>2018-06-13 10:54:04</td>\n",
              "      <td>2018-06-13 11:04:37</td>\n",
              "      <td>1</td>\n",
              "      <td>1.48</td>\n",
              "      <td>1</td>\n",
              "      <td>N</td>\n",
              "      <td>48</td>\n",
              "      <td>162</td>\n",
              "      <td>1</td>\n",
              "      <td>8.5</td>\n",
              "      <td>0.0</td>\n",
              "      <td>0.5</td>\n",
              "      <td>1.50</td>\n",
              "      <td>0.0</td>\n",
              "      <td>0.3</td>\n",
              "      <td>10.80</td>\n",
              "    </tr>\n",
              "    <tr>\n",
              "      <th>3</th>\n",
              "      <td>2</td>\n",
              "      <td>2018-06-13 10:02:47</td>\n",
              "      <td>2018-06-13 10:27:58</td>\n",
              "      <td>1</td>\n",
              "      <td>2.29</td>\n",
              "      <td>1</td>\n",
              "      <td>N</td>\n",
              "      <td>164</td>\n",
              "      <td>237</td>\n",
              "      <td>1</td>\n",
              "      <td>15.5</td>\n",
              "      <td>0.0</td>\n",
              "      <td>0.5</td>\n",
              "      <td>4.08</td>\n",
              "      <td>0.0</td>\n",
              "      <td>0.3</td>\n",
              "      <td>20.38</td>\n",
              "    </tr>\n",
              "    <tr>\n",
              "      <th>4</th>\n",
              "      <td>2</td>\n",
              "      <td>2018-06-13 10:29:11</td>\n",
              "      <td>2018-06-13 10:45:29</td>\n",
              "      <td>1</td>\n",
              "      <td>0.94</td>\n",
              "      <td>1</td>\n",
              "      <td>N</td>\n",
              "      <td>43</td>\n",
              "      <td>161</td>\n",
              "      <td>2</td>\n",
              "      <td>11.0</td>\n",
              "      <td>0.0</td>\n",
              "      <td>0.5</td>\n",
              "      <td>0.00</td>\n",
              "      <td>0.0</td>\n",
              "      <td>0.3</td>\n",
              "      <td>11.80</td>\n",
              "    </tr>\n",
              "  </tbody>\n",
              "</table>\n",
              "</div>"
            ],
            "text/plain": [
              "   VendorID tpep_pickup_datetime  ... improvement_surcharge  total_amount\n",
              "0         2  2018-06-13 10:21:21  ...                   0.3         15.30\n",
              "1         2  2018-06-13 10:42:40  ...                   0.3          5.80\n",
              "2         2  2018-06-13 10:54:04  ...                   0.3         10.80\n",
              "3         2  2018-06-13 10:02:47  ...                   0.3         20.38\n",
              "4         2  2018-06-13 10:29:11  ...                   0.3         11.80\n",
              "\n",
              "[5 rows x 17 columns]"
            ]
          },
          "metadata": {
            "tags": []
          },
          "execution_count": 11
        }
      ]
    },
    {
      "cell_type": "code",
      "metadata": {
        "id": "9dKiopVNNvm3",
        "colab_type": "code",
        "colab": {}
      },
      "source": [
        "# Aplicando Novas Colunas com dias da semana\n",
        "data['day_pickup'] = data['tpep_pickup_datetime'].dt.day_name()\n",
        "data['day_dropoff'] = data['tpep_dropoff_datetime'].dt.day_name()"
      ],
      "execution_count": 12,
      "outputs": []
    },
    {
      "cell_type": "code",
      "metadata": {
        "id": "KjQHvz4RRZlQ",
        "colab_type": "code",
        "colab": {
          "base_uri": "https://localhost:8080/",
          "height": 119
        },
        "outputId": "11263f24-899a-4bfc-dca8-5e947f9337db"
      },
      "source": [
        "# Validando coluna \n",
        "data['day_pickup'].head()"
      ],
      "execution_count": 13,
      "outputs": [
        {
          "output_type": "execute_result",
          "data": {
            "text/plain": [
              "0    Wednesday\n",
              "1    Wednesday\n",
              "2    Wednesday\n",
              "3    Wednesday\n",
              "4    Wednesday\n",
              "Name: day_pickup, dtype: object"
            ]
          },
          "metadata": {
            "tags": []
          },
          "execution_count": 13
        }
      ]
    },
    {
      "cell_type": "code",
      "metadata": {
        "id": "-Yjg23Y7Rzsk",
        "colab_type": "code",
        "colab": {
          "base_uri": "https://localhost:8080/",
          "height": 221
        },
        "outputId": "7a0799f1-de7d-4f4c-fe8c-c57ce1f34e00"
      },
      "source": [
        "# Validando coluna \n",
        "data['day_dropoff']"
      ],
      "execution_count": 14,
      "outputs": [
        {
          "output_type": "execute_result",
          "data": {
            "text/plain": [
              "0          Wednesday\n",
              "1          Wednesday\n",
              "2          Wednesday\n",
              "3          Wednesday\n",
              "4          Wednesday\n",
              "             ...    \n",
              "1515289       Monday\n",
              "1515290       Monday\n",
              "1515291       Monday\n",
              "1515292       Monday\n",
              "1515293       Monday\n",
              "Name: day_dropoff, Length: 1515294, dtype: object"
            ]
          },
          "metadata": {
            "tags": []
          },
          "execution_count": 14
        }
      ]
    },
    {
      "cell_type": "code",
      "metadata": {
        "id": "n5MaetQ2bgtC",
        "colab_type": "code",
        "colab": {}
      },
      "source": [
        "# inserindo um ID único no modelo\n",
        "data[\"id\"] = data.index + 1"
      ],
      "execution_count": 15,
      "outputs": []
    },
    {
      "cell_type": "code",
      "metadata": {
        "id": "0iuDGPNZgkOC",
        "colab_type": "code",
        "colab": {}
      },
      "source": [
        "# Rdd Texto\n",
        "##linesj = sc.textFile(file_loc1)\n",
        "\n",
        "# Convertendoum modelo pandas para DataFrame Spark\n",
        "df = spark.createDataFrame(data)\n"
      ],
      "execution_count": 16,
      "outputs": []
    },
    {
      "cell_type": "code",
      "metadata": {
        "id": "t4YhMaRIdBFk",
        "colab_type": "code",
        "colab": {
          "base_uri": "https://localhost:8080/",
          "height": 391
        },
        "outputId": "daf00a06-38aa-42a0-ebb2-875ed2812ba7"
      },
      "source": [
        "##df_orders = spark.read.parquet('/dbfs/FileStore/refinado/orders')\n",
        "\n",
        "\n",
        "\n",
        "##df = spark.read.csv(file_loc1,header=True)\n",
        "# verificando a Tipagem de dados\n",
        "df.printSchema()"
      ],
      "execution_count": 17,
      "outputs": [
        {
          "output_type": "stream",
          "text": [
            "root\n",
            " |-- VendorID: long (nullable = true)\n",
            " |-- tpep_pickup_datetime: timestamp (nullable = true)\n",
            " |-- tpep_dropoff_datetime: timestamp (nullable = true)\n",
            " |-- passenger_count: long (nullable = true)\n",
            " |-- trip_distance: double (nullable = true)\n",
            " |-- RatecodeID: long (nullable = true)\n",
            " |-- store_and_fwd_flag: string (nullable = true)\n",
            " |-- PULocationID: long (nullable = true)\n",
            " |-- DOLocationID: long (nullable = true)\n",
            " |-- payment_type: long (nullable = true)\n",
            " |-- fare_amount: double (nullable = true)\n",
            " |-- extra: double (nullable = true)\n",
            " |-- mta_tax: double (nullable = true)\n",
            " |-- tip_amount: double (nullable = true)\n",
            " |-- tolls_amount: double (nullable = true)\n",
            " |-- improvement_surcharge: double (nullable = true)\n",
            " |-- total_amount: double (nullable = true)\n",
            " |-- day_pickup: string (nullable = true)\n",
            " |-- day_dropoff: string (nullable = true)\n",
            " |-- id: long (nullable = true)\n",
            "\n"
          ],
          "name": "stdout"
        }
      ]
    },
    {
      "cell_type": "code",
      "metadata": {
        "id": "kcNOOR72hJ3u",
        "colab_type": "code",
        "colab": {}
      },
      "source": [
        "# Criando Tabela temporária \n",
        "df.createOrReplaceTempView(\"TABELA\")"
      ],
      "execution_count": 18,
      "outputs": []
    },
    {
      "cell_type": "code",
      "metadata": {
        "id": "0n6u1dwfiXx8",
        "colab_type": "code",
        "colab": {
          "base_uri": "https://localhost:8080/",
          "height": 119
        },
        "outputId": "284fd777-018d-4f81-ad15-1d7a9e866ff2"
      },
      "source": [
        "# Média de Distancia entre viagens, com no maximo 2 passageiros\n",
        "query1 = spark.sql(\"\"\"\n",
        "select  AVG(trip_distance) trip_distance from TABELA\n",
        "where passenger_count <= '2'\n",
        "\"\"\").show()"
      ],
      "execution_count": 19,
      "outputs": [
        {
          "output_type": "stream",
          "text": [
            "+------------------+\n",
            "|     trip_distance|\n",
            "+------------------+\n",
            "|3.0493525601413425|\n",
            "+------------------+\n",
            "\n"
          ],
          "name": "stdout"
        }
      ]
    },
    {
      "cell_type": "code",
      "metadata": {
        "id": "lgR_aPR_p0ej",
        "colab_type": "code",
        "colab": {
          "base_uri": "https://localhost:8080/",
          "height": 221
        },
        "outputId": "d6aa0ac5-5e16-47bf-ee40-1650df1e795b"
      },
      "source": [
        "# query para verificação dos dias da semana \n",
        "spark.sql(\"\"\"\n",
        "select  \n",
        "day_pickup\n",
        "FROM TABELA\n",
        "GROUP BY day_pickup\n",
        "ORDER BY 1\n",
        "\"\"\").show()\n"
      ],
      "execution_count": 20,
      "outputs": [
        {
          "output_type": "stream",
          "text": [
            "+----------+\n",
            "|day_pickup|\n",
            "+----------+\n",
            "|    Friday|\n",
            "|    Monday|\n",
            "|  Saturday|\n",
            "|    Sunday|\n",
            "|  Thursday|\n",
            "|   Tuesday|\n",
            "| Wednesday|\n",
            "+----------+\n",
            "\n"
          ],
          "name": "stdout"
        }
      ]
    },
    {
      "cell_type": "code",
      "metadata": {
        "id": "WxHHlFgxXoqB",
        "colab_type": "code",
        "colab": {
          "base_uri": "https://localhost:8080/",
          "height": 136
        },
        "outputId": "7e4c3c22-80b5-4dca-96b8-2d28ea43c581"
      },
      "source": [
        "# Média de Corridas iniciadas nos finals de semana levando em consideração o campo VendorID\n",
        "query2= spark.sql(\"\"\"\n",
        "select  \n",
        "AVG(VendorID) MEDIA , day_pickup\n",
        "FROM TABELA\n",
        "WHERE day_pickup BETWEEN \"Saturday\" and \"Sunday\"\n",
        "GROUP BY day_pickup\n",
        "\"\"\").show()"
      ],
      "execution_count": 21,
      "outputs": [
        {
          "output_type": "stream",
          "text": [
            "+------------------+----------+\n",
            "|             MEDIA|day_pickup|\n",
            "+------------------+----------+\n",
            "|1.5779342246454569|  Saturday|\n",
            "|1.5933597737368521|    Sunday|\n",
            "+------------------+----------+\n",
            "\n"
          ],
          "name": "stdout"
        }
      ]
    },
    {
      "cell_type": "code",
      "metadata": {
        "id": "lwRLvNT4Z-C4",
        "colab_type": "code",
        "colab": {
          "base_uri": "https://localhost:8080/",
          "height": 153
        },
        "outputId": "78cc7b60-c258-4619-8724-be65e0cb9503"
      },
      "source": [
        "# Notei que o VendorID não é um ID único\n",
        "spark.sql(\"\"\"\n",
        "select  \n",
        "count(VendorID) QTD, VendorID\n",
        "FROM TABELA\n",
        "WHERE day_pickup BETWEEN \"Saturday\" and \"Sunday\"\n",
        "GROUP BY VendorID\n",
        "\"\"\").show()"
      ],
      "execution_count": 22,
      "outputs": [
        {
          "output_type": "stream",
          "text": [
            "+------+--------+\n",
            "|   QTD|VendorID|\n",
            "+------+--------+\n",
            "|217281|       1|\n",
            "|306386|       2|\n",
            "|    34|       4|\n",
            "+------+--------+\n",
            "\n"
          ],
          "name": "stdout"
        }
      ]
    },
    {
      "cell_type": "code",
      "metadata": {
        "id": "atTgrwk_iCS3",
        "colab_type": "code",
        "colab": {
          "base_uri": "https://localhost:8080/",
          "height": 136
        },
        "outputId": "deb785ed-add3-4bff-87d9-9767a6ac29fb"
      },
      "source": [
        "# Média de Corridas iniciadas nos finals de semana por ID Único\n",
        "query3 = spark.sql(\"\"\"\n",
        "select  \n",
        "AVG(id) MEDIA , day_pickup\n",
        "FROM TABELA\n",
        "WHERE day_pickup BETWEEN \"Saturday\" and \"Sunday\"\n",
        "GROUP BY day_pickup\n",
        "\"\"\").show()"
      ],
      "execution_count": 25,
      "outputs": [
        {
          "output_type": "stream",
          "text": [
            "+------------------+----------+\n",
            "|             MEDIA|day_pickup|\n",
            "+------------------+----------+\n",
            "| 963781.1251305067|  Saturday|\n",
            "|1225600.0986955978|    Sunday|\n",
            "+------------------+----------+\n",
            "\n"
          ],
          "name": "stdout"
        }
      ]
    }
  ]
}